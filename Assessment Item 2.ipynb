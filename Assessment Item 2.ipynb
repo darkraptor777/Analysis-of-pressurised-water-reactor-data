{
 "cells": [
  {
   "cell_type": "markdown",
   "metadata": {},
   "source": [
    "# Section 1"
   ]
  },
  {
   "cell_type": "code",
   "execution_count": 17,
   "metadata": {},
   "outputs": [],
   "source": [
    "import pandas as pd\n",
    "import matplotlib.pyplot\n",
    "import numpy as np\n",
    "import matplotlib.pyplot as plt\n",
    "import random\n",
    "import math\n",
    "import numpy.linalg as linalg\n",
    "from sklearn.neural_network import MLPClassifier\n",
    "from sklearn.ensemble import RandomForestClassifier\n",
    "from sklearn.datasets import make_classification\n",
    "from sklearn.model_selection import cross_val_score\n",
    "from sklearn.utils import shuffle\n",
    "from sklearn import preprocessing"
   ]
  },
  {
   "cell_type": "code",
   "execution_count": 2,
   "metadata": {},
   "outputs": [],
   "source": [
    "def getMean(dataset):\n",
    "    total=0\n",
    "    for i in range(len(dataset)):\n",
    "        total+=dataset[i]\n",
    "    mean = total / len(dataset)\n",
    "    return mean\n",
    "def getMin(dataset):\n",
    "    lowest=99999999999 #really high value to check against initially\n",
    "    for i in range(len(dataset)):\n",
    "        if(dataset[i]<lowest):\n",
    "            lowest=dataset[i]\n",
    "    return lowest\n",
    "def getMax(dataset):\n",
    "    highest=-99999999999 #really low value to check against initially\n",
    "    for i in range(len(dataset)):\n",
    "        if(dataset[i]>highest):\n",
    "            highest=dataset[i]\n",
    "    return highest\n",
    "def getStandardDeviation(dataset):\n",
    "    mean = getMean(dataset)\n",
    "    total = 0\n",
    "    for i in range(len(dataset)):\n",
    "        total += (dataset[i]-mean)**2\n",
    "    s=math.sqrt(total/(len(dataset)-1))\n",
    "    return s\n",
    "def getLowerQuart(dataset):\n",
    "    dataset.sort()\n",
    "    i=int(len(dataset)*0.25)\n",
    "    return dataset[i]\n",
    "def getUpperQuart(dataset):\n",
    "    dataset.sort()\n",
    "    i=int(len(dataset)*0.75)\n",
    "    return dataset[i]\n",
    "def sortStatus(dataset,status):\n",
    "    normal=[]\n",
    "    abnormal=[]\n",
    "    #print(len(dataset),len(status))\n",
    "    for i in range(len(dataset)):\n",
    "        #print(i)\n",
    "        #print(status[i])\n",
    "        #print(dataset[i])\n",
    "        if(status[i]==\"Normal\"):\n",
    "            normal.append(dataset[i])\n",
    "        elif(status[i]==\"Abnormal\"):\n",
    "            abnormal.append(dataset[i])\n",
    "    return normal, abnormal\n",
    "def statusRatio(status):\n",
    "    normal=0\n",
    "    abnormal=0\n",
    "    for i in range(len(status)):\n",
    "        if(status[i]==\"Normal\"):\n",
    "            normal+=1\n",
    "        elif(status[i]==\"Abnormal\"):\n",
    "            abnormal+=1\n",
    "    return normal, abnormal\n",
    "        \n",
    "    \n",
    "    "
   ]
  },
  {
   "cell_type": "code",
   "execution_count": null,
   "metadata": {},
   "outputs": [],
   "source": [
    "data = pd.read_csv('CMP3751M_CMP9772M_ML_Assignment 2-dataset-nuclear_plants_final.csv')\n",
    "print(\"Number of features: \",len(data.keys()))\n",
    "print(\"Total no. of readings:\",len(data))\n",
    "normCount, abnormCount = statusRatio(data.Status)\n",
    "print(\"No. of normal readings:\",normCount)\n",
    "print(\"No. of abnormal readings:\",abnormCount)\n",
    "#print(data.keys())\n",
    "print(\"Power Range\")\n",
    "PowRangeS1Mean = getMean(data.Power_range_sensor_1)\n",
    "PowRangeS1Min = getMin(data.Power_range_sensor_1)\n",
    "PowRangeS1Max = getMax(data.Power_range_sensor_1)\n",
    "PowRangeS1SD = getStandardDeviation(data.Power_range_sensor_1)\n",
    "print(\"Sensor 1:\",PowRangeS1Mean, \"(mean) \",PowRangeS1Min,\"(min) \",PowRangeS1Max,\"(max) \",PowRangeS1SD,\"(SD)\")\n",
    "PowRangeS2Mean = getMean(data.Power_range_sensor_2)\n",
    "PowRangeS2Min = getMin(data.Power_range_sensor_2)\n",
    "PowRangeS2Max = getMax(data.Power_range_sensor_2)\n",
    "PowRangeS2SD = getStandardDeviation(data.Power_range_sensor_2)\n",
    "print(\"Sensor 2:\",PowRangeS2Mean, \"(mean) \",PowRangeS2Min,\"(min) \",PowRangeS2Max,\"(max) \",PowRangeS2SD,\"(SD)\")\n",
    "PowRangeS3Mean = getMean(data.Power_range_sensor_3)\n",
    "PowRangeS3Min = getMin(data.Power_range_sensor_3)\n",
    "PowRangeS3Max = getMax(data.Power_range_sensor_3)\n",
    "PowRangeS3SD = getStandardDeviation(data.Power_range_sensor_3)\n",
    "print(\"Sensor 3:\",PowRangeS3Mean, \"(mean) \",PowRangeS3Min,\"(min) \",PowRangeS3Max,\"(max) \",PowRangeS3SD,\"(SD)\")\n",
    "PowRangeS4Mean = getMean(data.Power_range_sensor_4)\n",
    "PowRangeS4Min = getMin(data.Power_range_sensor_4)\n",
    "PowRangeS4Max = getMax(data.Power_range_sensor_4)\n",
    "PowRangeS4SD = getStandardDeviation(data.Power_range_sensor_4)\n",
    "print(\"Sensor 4:\",PowRangeS4Mean, \"(mean) \",PowRangeS4Min,\"(min) \",PowRangeS4Max,\"(max) \",PowRangeS4SD,\"(SD)\")\n",
    "print(\"\\n\")\n",
    "\n",
    "print(\"Pressure\")\n",
    "PressureS1Mean = getMean(data.Pressure_sensor_1)\n",
    "PressureS1Min = getMin(data.Pressure_sensor_1)\n",
    "PressureS1Max = getMax(data.Pressure_sensor_1)\n",
    "PressureS1SD = getStandardDeviation(data.Pressure_sensor_1)\n",
    "print(\"Sensor 1:\",PressureS1Mean, \"(mean) \",PressureS1Min,\"(min) \",PressureS1Max,\"(max) \",PressureS1SD,\"(SD)\")\n",
    "PressureS2Mean = getMean(data.Pressure_sensor_2)\n",
    "PressureS2Min = getMin(data.Pressure_sensor_2)\n",
    "PressureS2Max = getMax(data.Pressure_sensor_2)\n",
    "PressureS2SD = getStandardDeviation(data.Pressure_sensor_2)\n",
    "print(\"Sensor 2:\",PressureS2Mean, \"(mean) \",PressureS2Min,\"(min) \",PressureS2Max,\"(max) \",PressureS2SD,\"(SD)\")\n",
    "PressureS3Mean = getMean(data.Pressure_sensor_3)\n",
    "PressureS3Min = getMin(data.Pressure_sensor_3)\n",
    "PressureS3Max = getMax(data.Pressure_sensor_3)\n",
    "PressureS3SD = getStandardDeviation(data.Pressure_sensor_3)\n",
    "print(\"Sensor 3:\",PressureS3Mean, \"(mean) \",PressureS3Min,\"(min) \",PressureS3Max,\"(max) \",PressureS3SD,\"(SD)\")\n",
    "PressureS4Mean = getMean(data.Pressure_sensor_4)\n",
    "PressureS4Min = getMin(data.Pressure_sensor_4)\n",
    "PressureS4Max = getMax(data.Pressure_sensor_4)\n",
    "PressureS4SD = getStandardDeviation(data.Pressure_sensor_4)\n",
    "print(\"Sensor 4:\",PressureS4Mean, \"(mean) \",PressureS4Min,\"(min) \",PressureS4Max,\"(max) \",PressureS4SD,\"(SD)\")\n",
    "print(\"\\n\")\n",
    "\n",
    "print(\"Vibration\")\n",
    "VibrationS1Mean = getMean(data.Vibration_sensor_1)\n",
    "VibrationS1Min = getMin(data.Vibration_sensor_1)\n",
    "VibrationS1Max = getMax(data.Vibration_sensor_1)\n",
    "VibrationS1SD = getStandardDeviation(data.Vibration_sensor_1)\n",
    "print(\"Sensor 1:\",VibrationS1Mean, \"(mean) \",VibrationS1Min,\"(min) \",VibrationS1Max,\"(max) \",VibrationS1SD,\"(SD)\")\n",
    "VibrationS2Mean = getMean(data.Vibration_sensor_2)\n",
    "VibrationS2Min = getMin(data.Vibration_sensor_2)\n",
    "VibrationS2Max = getMax(data.Vibration_sensor_2)\n",
    "VibrationS2SD = getStandardDeviation(data.Vibration_sensor_2)\n",
    "print(\"Sensor 2:\",VibrationS2Mean, \"(mean) \",VibrationS2Min,\"(min) \",VibrationS2Max,\"(max) \",VibrationS2SD,\"(SD)\")\n",
    "VibrationS3Mean = getMean(data.Vibration_sensor_3)\n",
    "VibrationS3Min = getMin(data.Vibration_sensor_3)\n",
    "VibrationS3Max = getMax(data.Vibration_sensor_3)\n",
    "VibrationS3SD = getStandardDeviation(data.Vibration_sensor_3)\n",
    "print(\"Sensor 3:\",VibrationS3Mean, \"(mean) \",VibrationS3Min,\"(min) \",VibrationS3Max,\"(max) \",VibrationS3SD,\"(SD)\")\n",
    "VibrationS4Mean = getMean(data.Vibration_sensor_4)\n",
    "VibrationS4Min = getMin(data.Vibration_sensor_4)\n",
    "VibrationS4Max = getMax(data.Vibration_sensor_4)\n",
    "VibrationS4SD = getStandardDeviation(data.Vibration_sensor_4)\n",
    "print(\"Sensor 4:\",VibrationS4Mean, \"(mean) \",VibrationS4Min,\"(min) \",VibrationS4Max,\"(max) \",VibrationS4SD,\"(SD)\")\n",
    "\n",
    "Vib1Norm, Vib1Abnorm = sortStatus(data.Vibration_sensor_1,data.Status)\n",
    "d1= {'Normal': Vib1Norm, 'Abnormal': Vib1Abnorm}\n",
    "df = pd.DataFrame(d1, columns=['Normal', 'Abnormal'])\n",
    "boxplot = df.boxplot(column=['Normal', 'Abnormal'])\n",
    "boxplot.set_ylabel(\"Vibration sensor 1\")\n",
    "\n",
    "Vib2Norm, Vib2Abnorm = sortStatus(data.Vibration_sensor_2,data.Status)\n",
    "d2= {'Normal': Vib2Norm, 'Abnormal': Vib2Abnorm}\n",
    "df2 = pd.DataFrame(d2, columns=['Normal', 'Abnormal'])\n",
    "densityplot = df2.plot.kde()\n",
    "densityplot.set_ylabel(\"Vibration sensor 2\")"
   ]
  },
  {
   "cell_type": "markdown",
   "metadata": {},
   "source": [
    "# Section 3"
   ]
  },
  {
   "cell_type": "code",
   "execution_count": 3,
   "metadata": {},
   "outputs": [],
   "source": [
    "def splitData(dataset, ratio):\n",
    "    trainX=[] #training set X\n",
    "    testX=[] #testing set X\n",
    "    trainY=[] #training set Y\n",
    "    testY=[] #testing set Y\n",
    "    trainLimit = int(ratio*len(dataset)) #get size for % of the data set to use as size for train set\n",
    "    testLimit = len(dataset)-trainLimit #get size of test set\n",
    "    trainCount=0 #current amount of items in train set\n",
    "    testCount=0 #current amount of items in test set\n",
    "    for i in range(len(dataset)):\n",
    "        Y=0 #default 0 (which represents Normal)\n",
    "        #print(dataset.Status[i])\n",
    "        if(dataset.Status[i]==\"Abnormal\"): #if the data item is actually abnormal change y to 1\n",
    "            Y=1        \n",
    "        if(trainCount==trainLimit): #if the training set is full then fill up the testing set\n",
    "            #print(\"train limit reached\")\n",
    "            testX.append([dataset.Power_range_sensor_1[i],\n",
    "                          dataset.Power_range_sensor_2[i],\n",
    "                          dataset.Power_range_sensor_3[i],\n",
    "                          dataset.Power_range_sensor_4[i],\n",
    "                          dataset.Pressure_sensor_1[i],\n",
    "                          dataset.Pressure_sensor_2[i],\n",
    "                          dataset.Pressure_sensor_3[i],\n",
    "                          dataset.Pressure_sensor_4[i],\n",
    "                          dataset.Vibration_sensor_1[i],\n",
    "                          dataset.Vibration_sensor_2[i],\n",
    "                          dataset.Vibration_sensor_3[i],\n",
    "                          dataset.Vibration_sensor_4[i]])\n",
    "            testY.append(Y)\n",
    "            testCount+=1 #update current amount of items in test set\n",
    "        elif(testCount==testLimit): #if the testing set is full then fill up the training set\n",
    "            #print(\"test limit reached\")\n",
    "            trainX.append([dataset.Power_range_sensor_1[i],\n",
    "                           dataset.Power_range_sensor_2[i],\n",
    "                           dataset.Power_range_sensor_3[i], \n",
    "                           dataset.Power_range_sensor_4[i],\n",
    "                           dataset.Pressure_sensor_1[i],\n",
    "                           dataset.Pressure_sensor_2[i],\n",
    "                           dataset.Pressure_sensor_3[i],\n",
    "                           dataset.Pressure_sensor_4[i],\n",
    "                           dataset.Vibration_sensor_1[i],\n",
    "                           dataset.Vibration_sensor_2[i],\n",
    "                           dataset.Vibration_sensor_3[i],\n",
    "                           dataset.Vibration_sensor_4[i]])\n",
    "            trainY.append(Y)\n",
    "            trainCount+=1 #update current amount of items in train set      \n",
    "        else:\n",
    "            r = random.randint(0,10) #randomly allocate data item to the test set or train set\n",
    "            #bias towards the train set since it is the larger of the two sets\n",
    "            if(r!=0): #add item to the train set\n",
    "                #print(\"assigned train\")\n",
    "                trainX.append([dataset.Power_range_sensor_1[i],\n",
    "                               dataset.Power_range_sensor_2[i],\n",
    "                               dataset.Power_range_sensor_3[i], \n",
    "                               dataset.Power_range_sensor_4[i],\n",
    "                               dataset.Pressure_sensor_1[i],\n",
    "                               dataset.Pressure_sensor_2[i],\n",
    "                               dataset.Pressure_sensor_3[i],\n",
    "                               dataset.Pressure_sensor_4[i],\n",
    "                               dataset.Vibration_sensor_1[i],\n",
    "                               dataset.Vibration_sensor_2[i],\n",
    "                               dataset.Vibration_sensor_3[i],\n",
    "                               dataset.Vibration_sensor_4[i]])\n",
    "                trainY.append(Y)\n",
    "                trainCount+=1 #update current amount of items in train set\n",
    "            else: #add item to the test set\n",
    "                #print(\"assigned test\")\n",
    "                testX.append([dataset.Power_range_sensor_1[i],\n",
    "                              dataset.Power_range_sensor_2[i],\n",
    "                              dataset.Power_range_sensor_3[i], \n",
    "                              dataset.Power_range_sensor_4[i],\n",
    "                              dataset.Pressure_sensor_1[i],\n",
    "                              dataset.Pressure_sensor_2[i],\n",
    "                              dataset.Pressure_sensor_3[i],\n",
    "                              dataset.Pressure_sensor_4[i],\n",
    "                              dataset.Vibration_sensor_1[i],\n",
    "                              dataset.Vibration_sensor_2[i],\n",
    "                              dataset.Vibration_sensor_3[i],\n",
    "                              dataset.Vibration_sensor_4[i]])\n",
    "                testY.append(Y)\n",
    "                testCount+=1 #update current amount of items in test set\n",
    "    return trainX, testX, trainY, testY #return complete sets\n",
    "\n"
   ]
  },
  {
   "cell_type": "code",
   "execution_count": 20,
   "metadata": {},
   "outputs": [],
   "source": [
    "def normalise(data):\n",
    "    normData=[]\n",
    "    Max = getMax(data)\n",
    "    for i in range(len(data)):\n",
    "        normData.append(data[i]/Max)\n",
    "    return normData\n",
    "\n",
    "def normaliseDataSet(data):\n",
    "    #data.Power_range_sensor_1 = normalise(data.Power_range_sensor_1)\n",
    "    #data.Power_range_sensor_2 = normalise(data.Power_range_sensor_2)\n",
    "    #data.Power_range_sensor_3 = normalise(data.Power_range_sensor_3)\n",
    "    #data.Power_range_sensor_4 = normalise(data.Power_range_sensor_4)\n",
    "    #data.Pressure_sensor_1 = normalise(data.Pressure_sensor_1)\n",
    "    #data.Pressure_sensor_2 = normalise(data.Pressure_sensor_2)\n",
    "    #data.Pressure_sensor_3 = normalise(data.Pressure_sensor_3)\n",
    "    #data.Pressure_sensor_4 = normalise(data.Pressure_sensor_4)\n",
    "    #data.Vibration_sensor_1 = normalise(data.Vibration_sensor_1)\n",
    "    #data.Vibration_sensor_2 = normalise(data.Vibration_sensor_2)\n",
    "    #data.Vibration_sensor_3 = normalise(data.Vibration_sensor_3)\n",
    "    #data.Vibration_sensor_4 = normalise(data.Vibration_sensor_4)\n",
    "    \n",
    "    data.Power_range_sensor_1 = preprocessing.normalize(data.Power_range_sensor_1, 'l2')\n",
    "    data.Power_range_sensor_2 = preprocessing.normalize(data.Power_range_sensor_2, 'l2')\n",
    "    data.Power_range_sensor_3 = preprocessing.normalize(data.Power_range_sensor_3, 'l2')\n",
    "    data.Power_range_sensor_4 = preprocessing.normalize(data.Power_range_sensor_4, 'l2')\n",
    "    data.Pressure_sensor_1 = preprocessing.normalize(data.Pressure_sensor_1, 'l2')\n",
    "    data.Pressure_sensor_2 = preprocessing.normalize(data.Pressure_sensor_2, 'l2')\n",
    "    data.Pressure_sensor_3 = preprocessing.normalize(data.Pressure_sensor_3, 'l2')\n",
    "    data.Pressure_sensor_4 = preprocessing.normalize(data.Pressure_sensor_4, 'l2')\n",
    "    data.Vibration_sensor_1 = preprocessing.normalize(data.Vibration_sensor_1, 'l2')\n",
    "    data.Vibration_sensor_2 = preprocessing.normalize(data.Vibration_sensor_2, 'l2')\n",
    "    data.Vibration_sensor_3 = preprocessing.normalize(data.Vibration_sensor_3, 'l2')\n",
    "    data.Vibration_sensor_4 = preprocessing.normalize(data.Vibration_sensor_4, 'l2')\n",
    "    return data"
   ]
  },
  {
   "cell_type": "code",
   "execution_count": 5,
   "metadata": {},
   "outputs": [],
   "source": [
    "def getAccuracy(testY,predictY):\n",
    "    total=0\n",
    "    #print(len(predictY))\n",
    "    for i in range(len(predictY)):\n",
    "        #print(testY[i],predictY[i])\n",
    "        if(testY[i]==predictY[i]):\n",
    "            total+=1\n",
    "    accuracy = total/len(predictY)\n",
    "    return accuracy"
   ]
  },
  {
   "cell_type": "code",
   "execution_count": null,
   "metadata": {},
   "outputs": [],
   "source": [
    "accuracy=[]\n",
    "epochs=[10, 25, 50, 75, 100, 250, 500, 1000]\n",
    "data = pd.read_csv('CMP3751M_CMP9772M_ML_Assignment 2-dataset-nuclear_plants_final.csv')\n",
    "data =normaliseDataSet(data)\n",
    "\n",
    "trainX, testX, trainY, testY = splitData(data,0.9)\n",
    "\n",
    "for I in range(len(epochs)):\n",
    "    #print(I)\n",
    "    clf = MLPClassifier(activation='logistic', hidden_layer_sizes=(500, 500),max_iter=epochs[I], random_state=1)\n",
    "    clf.fit(trainX, trainY)\n",
    "    predictY=clf.predict(testX)\n",
    "    a= getAccuracy(testY,predictY)\n",
    "    print(a)\n",
    "    accuracy.append(a)\n",
    "\n",
    "d2= {'Accuracy': accuracy}\n",
    "df2 = pd.DataFrame(d2, epochs, columns=['Accuracy'])\n",
    "densityplot = df2.plot()\n",
    "densityplot.set_ylabel(\"Accuracy (%)\")\n",
    "densityplot.set_xlabel(\"Number of Epochs\")"
   ]
  },
  {
   "cell_type": "code",
   "execution_count": null,
   "metadata": {},
   "outputs": [],
   "source": [
    "accuracy=[]\n",
    "trees=[10, 50, 100, 500, 1000, 2000, 3000, 4000, 5000, 7500, 10000]\n",
    "leaves = [5,50]\n",
    "data = pd.read_csv('CMP3751M_CMP9772M_ML_Assignment 2-dataset-nuclear_plants_final.csv')\n",
    "data =normaliseDataSet(data)\n",
    "trainX, testX, trainY, testY = splitData(data,0.9)\n",
    "\n",
    "for l in range(len(leaves)):\n",
    "    leaf=[]\n",
    "    print(\"Leaf\",leaves[l])\n",
    "    for t in range(len(trees)):\n",
    "        clf = RandomForestClassifier(n_estimators=trees[t], min_samples_leaf=leaves[l])\n",
    "        clf.fit(trainX, trainY)\n",
    "        predictY=clf.predict(testX)\n",
    "        a= getAccuracy(testY,predictY)\n",
    "        print(a)\n",
    "        leaf.append(a)\n",
    "    accuracy.append(leaf)\n",
    "\n",
    "d2= {'Min 5 samples': accuracy[0], 'Min 50 samples': accuracy[1]}\n",
    "df2 = pd.DataFrame(d2, trees, columns=['Min 5 samples', 'Min 50 samples'])\n",
    "densityplot = df2.plot()\n",
    "densityplot.set_ylabel(\"Accuracy (%)\")\n",
    "densityplot.set_xlabel(\"Number of Trees\")"
   ]
  },
  {
   "cell_type": "markdown",
   "metadata": {},
   "source": [
    "# Section 4"
   ]
  },
  {
   "cell_type": "code",
   "execution_count": 33,
   "metadata": {},
   "outputs": [],
   "source": [
    "#def shuffle(data):\n",
    "    #shuffled=[]\n",
    "    #for i in range(len(data)):\n",
    "        #r=random.randint(0,len(data)-1)\n",
    "        #temp = data[r]\n",
    "        #current=data[i]\n",
    "        #data[r]=current\n",
    "        #data[i]=temp\n",
    "    #print(\"shuffle done\")\n",
    "    #return data\n",
    "\n",
    "#def shuffleSet(data):\n",
    "#    data.Power_range_sensor_1 = shuffle(data.Power_range_sensor_1)\n",
    "#    data.Power_range_sensor_2 = shuffle(data.Power_range_sensor_2)\n",
    "#    data.Power_range_sensor_3 = shuffle(data.Power_range_sensor_3)\n",
    "#    data.Power_range_sensor_4 = shuffle(data.Power_range_sensor_4)\n",
    "#    data.Pressure_sensor_1 = shuffle(data.Pressure_sensor_1)\n",
    "#    data.Pressure_sensor_2 = shuffle(data.Pressure_sensor_2)\n",
    "#    data.Pressure_sensor_3 = shuffle(data.Pressure_sensor_3)\n",
    "#    data.Pressure_sensor_4 = shuffle(data.Pressure_sensor_4)\n",
    "#    data.Vibration_sensor_1 = shuffle(data.Vibration_sensor_1)\n",
    "#    data.Vibration_sensor_2 = shuffle(data.Vibration_sensor_2)\n",
    "#    data.Vibration_sensor_3 = shuffle(data.Vibration_sensor_3)\n",
    "#    data.Vibration_sensor_4 = shuffle(data.Vibration_sensor_4)\n",
    "#    return data"
   ]
  },
  {
   "cell_type": "code",
   "execution_count": 31,
   "metadata": {},
   "outputs": [
    {
     "name": "stdout",
     "output_type": "stream",
     "text": [
      "preprocessing done\n",
      "[0.65       0.74       0.5        0.5        0.5        0.72\n",
      " 0.74       0.73       0.64285714 0.69387755]\n",
      "0.6416734693877552\n",
      "[0.61       0.65       0.72       0.68       0.7        0.51\n",
      " 0.7        0.68       0.62244898 0.68367347]\n",
      "0.6556122448979591\n",
      "[0.57       0.66       0.65       0.62       0.68       0.58\n",
      " 0.7        0.69       0.62244898 0.66326531]\n",
      "0.6435714285714286\n"
     ]
    },
    {
     "data": {
      "text/plain": [
       "Text(0.5, 0, 'Number of Hidden Neurons')"
      ]
     },
     "execution_count": 31,
     "metadata": {},
     "output_type": "execute_result"
    },
    {
     "data": {
      "image/png": "[encoded data removed]",
      "text/plain": [
       "<Figure size 432x288 with 1 Axes>"
      ]
     },
     "metadata": {
      "needs_background": "light"
     },
     "output_type": "display_data"
    }
   ],
   "source": [
    "neurons=[50,500,1000]\n",
    "data = pd.read_csv('CMP3751M_CMP9772M_ML_Assignment 2-dataset-nuclear_plants_final.csv')\n",
    "data=shuffle(data)\n",
    "X=pd.DataFrame(data).drop('Status', 1)\n",
    "Y=pd.DataFrame(data, columns=['Status'])\n",
    "X =preprocessing.normalize(X)\n",
    "print(\"preprocessing done\")\n",
    "annAcc=[]\n",
    "\n",
    "for n in range(len(neurons)):\n",
    "    clf = MLPClassifier(activation='logistic', hidden_layer_sizes=(neurons[n], neurons[n]),max_iter=1000, random_state=1)\n",
    "    scores = cross_val_score(clf, X, Y.values.ravel(), cv=10)\n",
    "    print(scores)\n",
    "    mean=getMean(scores)\n",
    "    print(mean)\n",
    "    annAcc.append(mean)\n",
    "    \n",
    "d2= {'Accuracy': annAcc}\n",
    "df2 = pd.DataFrame(d2, neurons, columns=['Accuracy'])\n",
    "accuracyplot = df2.plot()\n",
    "accuracyplot.set_ylabel(\"Accuracy (%)\")\n",
    "accuracyplot.set_xlabel(\"Number of Hidden Neurons\")"
   ]
  },
  {
   "cell_type": "code",
   "execution_count": 32,
   "metadata": {},
   "outputs": [
    {
     "data": {
      "text/plain": [
       "(0.0, 1.0)"
      ]
     },
     "execution_count": 32,
     "metadata": {},
     "output_type": "execute_result"
    },
    {
     "data": {
      "image/png": "[encoded data removed]",
      "text/plain": [
       "<Figure size 432x288 with 1 Axes>"
      ]
     },
     "metadata": {
      "needs_background": "light"
     },
     "output_type": "display_data"
    }
   ],
   "source": [
    "d2= {'Accuracy': annAcc}\n",
    "df2 = pd.DataFrame(d2, neurons, columns=['Accuracy'])\n",
    "accuracyplot = df2.plot()\n",
    "accuracyplot.set_ylabel(\"Accuracy (%)\")\n",
    "accuracyplot.set_xlabel(\"Number of Hidden Neurons\")\n",
    "accuracyplot.set_ylim(0.0, 1.0)"
   ]
  },
  {
   "cell_type": "code",
   "execution_count": 35,
   "metadata": {},
   "outputs": [
    {
     "name": "stdout",
     "output_type": "stream",
     "text": [
      "[0.88       0.8        0.84       0.88       0.92       0.84\n",
      " 0.82       0.86       0.78571429 0.81632653]\n",
      "0.8442040816326533\n",
      "[0.88       0.84       0.81       0.87       0.91       0.84\n",
      " 0.83       0.88       0.80612245 0.85714286]\n",
      "0.8523265306122448\n",
      "[0.89       0.84       0.81       0.89       0.9        0.84\n",
      " 0.84       0.86       0.82653061 0.84693878]\n",
      "0.8543469387755103\n"
     ]
    },
    {
     "data": {
      "text/plain": [
       "Text(0.5, 0, 'Number of Trees')"
      ]
     },
     "execution_count": 35,
     "metadata": {},
     "output_type": "execute_result"
    },
    {
     "data": {
      "image/png": "[encoded data removed]",
      "text/plain": [
       "<Figure size 432x288 with 1 Axes>"
      ]
     },
     "metadata": {
      "needs_background": "light"
     },
     "output_type": "display_data"
    }
   ],
   "source": [
    "trees=[20,50,10000]\n",
    "data = pd.read_csv('CMP3751M_CMP9772M_ML_Assignment 2-dataset-nuclear_plants_final.csv')\n",
    "data=shuffle(data)\n",
    "X=pd.DataFrame(data).drop('Status', 1)\n",
    "Y=pd.DataFrame(data, columns=['Status'])\n",
    "X =preprocessing.normalize(X)\n",
    "\n",
    "annAcc=[]\n",
    "\n",
    "for t in range(len(trees)):\n",
    "    clf = RandomForestClassifier(n_estimators=trees[t], min_samples_leaf=5)\n",
    "    scores = cross_val_score(clf, X, Y.values.ravel(), cv=10)\n",
    "    print(scores)\n",
    "    mean=getMean(scores)\n",
    "    print(mean)\n",
    "    annAcc.append(mean)\n",
    "    \n",
    "d2= {'Accuracy': annAcc}\n",
    "df2 = pd.DataFrame(d2, trees, columns=['Accuracy'])\n",
    "accuracyplot = df2.plot()\n",
    "accuracyplot.set_ylabel(\"Accuracy (%)\")\n",
    "accuracyplot.set_xlabel(\"Number of Trees\")"
   ]
  },
  {
   "cell_type": "code",
   "execution_count": 39,
   "metadata": {},
   "outputs": [
    {
     "data": {
      "text/plain": [
       "(0.0, 1.0)"
      ]
     },
     "execution_count": 39,
     "metadata": {},
     "output_type": "execute_result"
    },
    {
     "data": {
      "image/png": "[encoded data removed]",
      "text/plain": [
       "<Figure size 432x288 with 1 Axes>"
      ]
     },
     "metadata": {
      "needs_background": "light"
     },
     "output_type": "display_data"
    },
    {
     "data": {
      "image/png": "[encoded data removed]",
      "text/plain": [
       "<Figure size 432x288 with 1 Axes>"
      ]
     },
     "metadata": {
      "needs_background": "light"
     },
     "output_type": "display_data"
    }
   ],
   "source": [
    "d2= {'Accuracy': annAcc}\n",
    "df2 = pd.DataFrame(d2, trees, columns=['Accuracy'])\n",
    "accuracyplot = df2.plot()\n",
    "accuracyplot.set_ylabel(\"Accuracy (%)\")\n",
    "accuracyplot.set_xlabel(\"Number of Trees\")\n",
    "accuracyplot.set_ylim(0.0, 1.0)"
   ]
  },
  {
   "cell_type": "code",
   "execution_count": null,
   "metadata": {},
   "outputs": [],
   "source": []
  }
 ],
 "metadata": {
  "kernelspec": {
   "display_name": "Python 3",
   "language": "python",
   "name": "python3"
  },
  "language_info": {
   "codemirror_mode": {
    "name": "ipython",
    "version": 3
   },
   "file_extension": ".py",
   "mimetype": "text/x-python",
   "name": "python",
   "nbconvert_exporter": "python",
   "pygments_lexer": "ipython3",
   "version": "3.7.3"
  }
 },
 "nbformat": 4,
 "nbformat_minor": 2
}
